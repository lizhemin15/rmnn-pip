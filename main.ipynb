{
 "cells": [
  {
   "cell_type": "code",
   "execution_count": 2,
   "metadata": {},
   "outputs": [],
   "source": [
    "import rmnn as rm\n",
    "import collections\n",
    "import numpy as np\n",
    "\n",
    "parameters = collections.OrderedDict()\n",
    "parameters['siren_1']=[2,256,1,4]\n",
    "parameters['splitsiren_1']=[2,256,[10,10],4,'tucker']\n",
    "#net='mulsiren',parameters=[2,256,[10,10],4,'tucker']\n",
    "net = rm.represent.get_nn(net='composition',parameters=parameters)\n",
    "data = np.random.random((2,3))\n",
    "mask = np.zeros((2,3))\n",
    "mask[0,2] = 1\n",
    "data_train_loader,data_val_loader,data_test_loader = rm.toolbox.get_dataloader(x_mode='inr',batch_size=128,shuffle_if=False,data=data,mask=mask,xrange=1)\n",
    "\n",
    "#print(net.G)"
   ]
  },
  {
   "cell_type": "code",
   "execution_count": 1,
   "metadata": {},
   "outputs": [
    {
     "data": {
      "text/plain": [
       "<Figure size 640x480 with 1 Axes>"
      ]
     },
     "metadata": {},
     "output_type": "display_data"
    }
   ],
   "source": [
    "import rmnn as rm\n",
    "img_arr = rm.toolbox.load_data('./data/img/Cameraman.jpg',data_type='rgb_img',data_shape=None)\n",
    "import matplotlib.pyplot as plt\n",
    "plt.imshow(img_arr)\n",
    "plt.show()\n",
    "\n",
    "\n",
    "rm.toolbox.save_data(data_path='./data/img/test.jpg',data_type='img',data=img_arr)"
   ]
  },
  {
   "cell_type": "code",
   "execution_count": 26,
   "metadata": {},
   "outputs": [
    {
     "name": "stdout",
     "output_type": "stream",
     "text": [
      "(5, 2, 3)\n",
      "[[[0. 0. 1.]\n",
      "  [0. 1. 0.]]\n",
      "\n",
      " [[0. 1. 0.]\n",
      "  [1. 1. 0.]]\n",
      "\n",
      " [[0. 0. 0.]\n",
      "  [0. 0. 0.]]\n",
      "\n",
      " [[0. 0. 1.]\n",
      "  [0. 1. 0.]]\n",
      "\n",
      " [[1. 1. 1.]\n",
      "  [1. 0. 0.]]]\n"
     ]
    },
    {
     "data": {
      "text/plain": [
       "True"
      ]
     },
     "execution_count": 26,
     "metadata": {},
     "output_type": "execute_result"
    }
   ],
   "source": [
    "import rmnn as rm\n",
    "mask = rm.toolbox.load_mask(mask_type='random',random_rate=0.5,mask_path=None,data_shape=(5,2,3),mask_shape='same')\n",
    "print(mask.shape)\n",
    "print(mask)\n",
    "\n",
    "a = ['dsd']\n",
    "isinstance(a,list)"
   ]
  },
  {
   "cell_type": "code",
   "execution_count": 28,
   "metadata": {},
   "outputs": [
    {
     "name": "stdout",
     "output_type": "stream",
     "text": [
      "test\n",
      "test g\n"
     ]
    }
   ],
   "source": [
    "def g(*args):\n",
    "    print(*args,'g')\n",
    "\n",
    "def f(*args):\n",
    "    print(*args)\n",
    "    g(*args)\n",
    "\n",
    "f('test')"
   ]
  }
 ],
 "metadata": {
  "kernelspec": {
   "display_name": "base",
   "language": "python",
   "name": "python3"
  },
  "language_info": {
   "codemirror_mode": {
    "name": "ipython",
    "version": 3
   },
   "file_extension": ".py",
   "mimetype": "text/x-python",
   "name": "python",
   "nbconvert_exporter": "python",
   "pygments_lexer": "ipython3",
   "version": "3.7.0"
  },
  "orig_nbformat": 4,
  "vscode": {
   "interpreter": {
    "hash": "3641e4d6ea0870ed0162470857a6b99e659f9af357693a1afe22018e42a2dc9b"
   }
  }
 },
 "nbformat": 4,
 "nbformat_minor": 2
}
