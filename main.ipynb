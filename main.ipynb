{
 "cells": [
  {
   "cell_type": "code",
   "execution_count": 2,
   "metadata": {},
   "outputs": [],
   "source": [
    "import rmnn as rm\n",
    "import collections\n",
    "import numpy as np\n",
    "\n",
    "parameters = collections.OrderedDict()\n",
    "parameters['siren_1']=[2,256,1,4]\n",
    "parameters['splitsiren_1']=[2,256,[10,10],4,'tucker']\n",
    "#net='mulsiren',parameters=[2,256,[10,10],4,'tucker']\n",
    "net = rm.represent.get_nn(net='composition',parameters=parameters)\n",
    "data = np.random.random((2,3))\n",
    "mask = np.zeros((2,3))\n",
    "mask[0,2] = 1\n",
    "data_train_loader,data_val_loader,data_test_loader = rm.toolbox.get_dataloader(x_mode='inr',batch_size=128,shuffle_if=False,data=data,mask=mask,xrange=1)\n",
    "\n",
    "#print(net.G)"
   ]
  },
  {
   "cell_type": "code",
   "execution_count": 4,
   "metadata": {},
   "outputs": [
    {
     "name": "stdout",
     "output_type": "stream",
     "text": [
      "epoch  0 , loss =  0.62090516\n",
      "epoch  30 , loss =  0.07509176\n",
      "epoch  60 , loss =  0.042660587\n",
      "epoch  90 , loss =  0.039292876\n",
      "epoch  120 , loss =  0.03892245\n",
      "epoch  150 , loss =  0.038695708\n",
      "epoch  180 , loss =  0.038513362\n",
      "epoch  210 , loss =  0.03834617\n",
      "epoch  240 , loss =  0.03818201\n",
      "epoch  270 , loss =  0.038017035\n",
      "MSE= 0.03785202941894531\n"
     ]
    },
    {
     "data": {
      "image/png": "[encoded data removed]",
      "text/plain": [
       "<Figure size 432x288 with 1 Axes>"
      ]
     },
     "metadata": {
      "needs_background": "light"
     },
     "output_type": "display_data"
    }
   ],
   "source": [
    "import rmnn as rm\n",
    "import numpy as np\n",
    "import collections\n",
    "\n",
    "data = rm.toolbox.load_data('./data/img/Cameraman.jpg',data_type='gray_img',data_shape=(100,100))\n",
    "mask = rm.toolbox.load_mask(mask_type='random',random_rate=0.0,mask_path=None,data_shape=data.shape,mask_shape='same')\n",
    "data_in = rm.toolbox.get_dataloader(x_mode='inr',batch_size=240**2,shuffle_if=False,data=data,mask=mask,xrange=1)\n",
    "# net = rm.represent.net(device='cpu',fid_name='mse',net_name='increase_tanh',parameters=[2,256,1,4],opt_name='Adam',lr=1e-3)\n",
    "\n",
    "parameters = collections.OrderedDict()\n",
    "parameters['increase_tanh 0']=[2,2,2,3]\n",
    "#parameters['norm 0']=[1]\n",
    "parameters['inr_siren 1']=[2,256,1,4]\n",
    "net = rm.represent.net(device='cpu',fid_name='mse',net_name='composition',parameters=parameters,opt_name='Adam',lr=1e-3)\n",
    "\n",
    "\n",
    "# data_in = rm.toolbox.get_dataloader(x_mode='splitinr',batch_size=240**2,shuffle_if=False,data=data,mask=mask,xrange=1)\n",
    "# net = rm.represent.net(device=0,fid_name='mse',net_name='splitsiren',parameters=[3,256,[100,100,3],4,'tucker'],opt_name='Adam',lr=1e-3)\n",
    "\n",
    "net.fit(data_in,epoch=300,verbose=True)\n",
    "net.test(data_in,data_shape=(100,100),show_if=True)"
   ]
  },
  {
   "cell_type": "code",
   "execution_count": 4,
   "metadata": {},
   "outputs": [
    {
     "name": "stdout",
     "output_type": "stream",
     "text": [
      "(144, 176, 100)\n"
     ]
    }
   ],
   "source": [
    "from scipy import io\n",
    "import rmnn as rm\n",
    "data_all =[\"C://Users//jamily//Desktop//LRTFR_Code//plane\"] # video data.\n",
    "for data in data_all:\n",
    "    file_name = data+'p3.mat'\n",
    "    mat = io.loadmat(file_name)\n",
    "    X_np = mat[\"Nhsi\"][:,:,:]\n",
    "    print(X_np.shape)\n",
    "rm.toolbox.save_data(data_path='./data/numpy/vid6mask.npy',data_type='numpy',data=X_np)"
   ]
  },
  {
   "cell_type": "code",
   "execution_count": 7,
   "metadata": {},
   "outputs": [
    {
     "name": "stdout",
     "output_type": "stream",
     "text": [
      "Jupyter environment detected. Enabling Open3D WebVisualizer.\n",
      "[Open3D INFO] WebRTC GUI backend enabled.\n",
      "[Open3D INFO] WebRTCWindowSystem: HTTP handshake server disabled.\n",
      "(299, 3)\n"
     ]
    }
   ],
   "source": [
    "import open3d as o3d\n",
    "import numpy as np\n",
    "pcd = o3d.io.read_point_cloud(\"C://Users//jamily//Desktop//LRTFR_Code//heartp0.05.pcd\")\n",
    "X_np = point = np.array(pcd.points)[:,:]\n",
    "print(X_np.shape)"
   ]
  }
 ],
 "metadata": {
  "kernelspec": {
   "display_name": "Python 3 (ipykernel)",
   "language": "python",
   "name": "python3"
  },
  "language_info": {
   "codemirror_mode": {
    "name": "ipython",
    "version": 3
   },
   "file_extension": ".py",
   "mimetype": "text/x-python",
   "name": "python",
   "nbconvert_exporter": "python",
   "pygments_lexer": "ipython3",
   "version": "3.7.0"
  },
  "vscode": {
   "interpreter": {
    "hash": "3641e4d6ea0870ed0162470857a6b99e659f9af357693a1afe22018e42a2dc9b"
   }
  }
 },
 "nbformat": 4,
 "nbformat_minor": 4
}
